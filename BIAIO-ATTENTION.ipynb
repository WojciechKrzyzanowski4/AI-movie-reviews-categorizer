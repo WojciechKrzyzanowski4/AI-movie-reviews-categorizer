{
 "cells": [
  {
   "cell_type": "markdown",
   "metadata": {
    "colab_type": "text",
    "id": "view-in-github"
   },
   "source": [
    "<a href=\"https://colab.research.google.com/github/JanGorczynski/Sentiment_Analysis_project/blob/main/CudaProjekt.ipynb\" target=\"_parent\"><img src=\"https://colab.research.google.com/assets/colab-badge.svg\" alt=\"Open In Colab\"/></a>"
   ]
  },
  {
   "cell_type": "code",
   "execution_count": 1,
   "metadata": {
    "colab": {
     "base_uri": "https://localhost:8080/"
    },
    "id": "HxegrLKY7JBS",
    "outputId": "8ce458c3-d5ee-4e23-c67e-418a5d39db91"
   },
   "outputs": [
    {
     "name": "stdout",
     "output_type": "stream",
     "text": [
      "Requirement already satisfied: keras-tuner in c:\\users\\s7st3m\\.conda\\envs\\biai_polsl_ii\\lib\\site-packages (1.4.7)\n",
      "Requirement already satisfied: keras in c:\\users\\s7st3m\\.conda\\envs\\biai_polsl_ii\\lib\\site-packages (from keras-tuner) (2.10.0)\n",
      "Requirement already satisfied: packaging in c:\\users\\s7st3m\\.conda\\envs\\biai_polsl_ii\\lib\\site-packages (from keras-tuner) (23.2)\n",
      "Requirement already satisfied: requests in c:\\users\\s7st3m\\.conda\\envs\\biai_polsl_ii\\lib\\site-packages (from keras-tuner) (2.31.0)\n",
      "Requirement already satisfied: kt-legacy in c:\\users\\s7st3m\\.conda\\envs\\biai_polsl_ii\\lib\\site-packages (from keras-tuner) (1.0.5)\n",
      "Requirement already satisfied: charset-normalizer<4,>=2 in c:\\users\\s7st3m\\.conda\\envs\\biai_polsl_ii\\lib\\site-packages (from requests->keras-tuner) (2.0.4)\n",
      "Requirement already satisfied: idna<4,>=2.5 in c:\\users\\s7st3m\\.conda\\envs\\biai_polsl_ii\\lib\\site-packages (from requests->keras-tuner) (3.7)\n",
      "Requirement already satisfied: urllib3<3,>=1.21.1 in c:\\users\\s7st3m\\.conda\\envs\\biai_polsl_ii\\lib\\site-packages (from requests->keras-tuner) (2.1.0)\n",
      "Requirement already satisfied: certifi>=2017.4.17 in c:\\users\\s7st3m\\.conda\\envs\\biai_polsl_ii\\lib\\site-packages (from requests->keras-tuner) (2024.2.2)\n",
      "Requirement already satisfied: nltk in c:\\users\\s7st3m\\.conda\\envs\\biai_polsl_ii\\lib\\site-packages (3.8.1)\n",
      "Requirement already satisfied: click in c:\\users\\s7st3m\\.conda\\envs\\biai_polsl_ii\\lib\\site-packages (from nltk) (8.1.7)\n",
      "Requirement already satisfied: joblib in c:\\users\\s7st3m\\.conda\\envs\\biai_polsl_ii\\lib\\site-packages (from nltk) (1.4.0)\n",
      "Requirement already satisfied: regex>=2021.8.3 in c:\\users\\s7st3m\\.conda\\envs\\biai_polsl_ii\\lib\\site-packages (from nltk) (2024.4.28)\n",
      "Requirement already satisfied: tqdm in c:\\users\\s7st3m\\.conda\\envs\\biai_polsl_ii\\lib\\site-packages (from nltk) (4.66.2)\n",
      "Requirement already satisfied: colorama in c:\\users\\s7st3m\\.conda\\envs\\biai_polsl_ii\\lib\\site-packages (from click->nltk) (0.4.6)\n",
      "Requirement already satisfied: scikit-learn in c:\\users\\s7st3m\\.conda\\envs\\biai_polsl_ii\\lib\\site-packages (1.4.2)\n",
      "Requirement already satisfied: numpy>=1.19.5 in c:\\users\\s7st3m\\.conda\\envs\\biai_polsl_ii\\lib\\site-packages (from scikit-learn) (1.26.4)\n",
      "Requirement already satisfied: scipy>=1.6.0 in c:\\users\\s7st3m\\.conda\\envs\\biai_polsl_ii\\lib\\site-packages (from scikit-learn) (1.13.0)\n",
      "Requirement already satisfied: joblib>=1.2.0 in c:\\users\\s7st3m\\.conda\\envs\\biai_polsl_ii\\lib\\site-packages (from scikit-learn) (1.4.0)\n",
      "Requirement already satisfied: threadpoolctl>=2.0.0 in c:\\users\\s7st3m\\.conda\\envs\\biai_polsl_ii\\lib\\site-packages (from scikit-learn) (3.5.0)\n",
      "Requirement already satisfied: seaborn in c:\\users\\s7st3m\\.conda\\envs\\biai_polsl_ii\\lib\\site-packages (0.13.2)\n",
      "Requirement already satisfied: numpy!=1.24.0,>=1.20 in c:\\users\\s7st3m\\.conda\\envs\\biai_polsl_ii\\lib\\site-packages (from seaborn) (1.26.4)\n",
      "Requirement already satisfied: pandas>=1.2 in c:\\users\\s7st3m\\.conda\\envs\\biai_polsl_ii\\lib\\site-packages (from seaborn) (2.2.1)\n",
      "Requirement already satisfied: matplotlib!=3.6.1,>=3.4 in c:\\users\\s7st3m\\.conda\\envs\\biai_polsl_ii\\lib\\site-packages (from seaborn) (3.8.4)\n",
      "Requirement already satisfied: contourpy>=1.0.1 in c:\\users\\s7st3m\\.conda\\envs\\biai_polsl_ii\\lib\\site-packages (from matplotlib!=3.6.1,>=3.4->seaborn) (1.2.0)\n",
      "Requirement already satisfied: cycler>=0.10 in c:\\users\\s7st3m\\.conda\\envs\\biai_polsl_ii\\lib\\site-packages (from matplotlib!=3.6.1,>=3.4->seaborn) (0.11.0)\n",
      "Requirement already satisfied: fonttools>=4.22.0 in c:\\users\\s7st3m\\.conda\\envs\\biai_polsl_ii\\lib\\site-packages (from matplotlib!=3.6.1,>=3.4->seaborn) (4.51.0)\n",
      "Requirement already satisfied: kiwisolver>=1.3.1 in c:\\users\\s7st3m\\.conda\\envs\\biai_polsl_ii\\lib\\site-packages (from matplotlib!=3.6.1,>=3.4->seaborn) (1.4.4)\n",
      "Requirement already satisfied: packaging>=20.0 in c:\\users\\s7st3m\\.conda\\envs\\biai_polsl_ii\\lib\\site-packages (from matplotlib!=3.6.1,>=3.4->seaborn) (23.2)\n",
      "Requirement already satisfied: pillow>=8 in c:\\users\\s7st3m\\.conda\\envs\\biai_polsl_ii\\lib\\site-packages (from matplotlib!=3.6.1,>=3.4->seaborn) (10.3.0)\n",
      "Requirement already satisfied: pyparsing>=2.3.1 in c:\\users\\s7st3m\\.conda\\envs\\biai_polsl_ii\\lib\\site-packages (from matplotlib!=3.6.1,>=3.4->seaborn) (3.0.9)\n",
      "Requirement already satisfied: python-dateutil>=2.7 in c:\\users\\s7st3m\\.conda\\envs\\biai_polsl_ii\\lib\\site-packages (from matplotlib!=3.6.1,>=3.4->seaborn) (2.8.2)\n",
      "Requirement already satisfied: pytz>=2020.1 in c:\\users\\s7st3m\\.conda\\envs\\biai_polsl_ii\\lib\\site-packages (from pandas>=1.2->seaborn) (2024.1)\n",
      "Requirement already satisfied: tzdata>=2022.7 in c:\\users\\s7st3m\\.conda\\envs\\biai_polsl_ii\\lib\\site-packages (from pandas>=1.2->seaborn) (2023.3)\n",
      "Requirement already satisfied: six>=1.5 in c:\\users\\s7st3m\\.conda\\envs\\biai_polsl_ii\\lib\\site-packages (from python-dateutil>=2.7->matplotlib!=3.6.1,>=3.4->seaborn) (1.16.0)\n",
      "Requirement already satisfied: gensim in c:\\users\\s7st3m\\.conda\\envs\\biai_polsl_ii\\lib\\site-packages (4.3.2)\n",
      "Requirement already satisfied: numpy>=1.18.5 in c:\\users\\s7st3m\\.conda\\envs\\biai_polsl_ii\\lib\\site-packages (from gensim) (1.26.4)\n",
      "Requirement already satisfied: scipy>=1.7.0 in c:\\users\\s7st3m\\.conda\\envs\\biai_polsl_ii\\lib\\site-packages (from gensim) (1.13.0)\n",
      "Requirement already satisfied: smart-open>=1.8.1 in c:\\users\\s7st3m\\.conda\\envs\\biai_polsl_ii\\lib\\site-packages (from gensim) (7.0.4)\n",
      "Requirement already satisfied: wrapt in c:\\users\\s7st3m\\.conda\\envs\\biai_polsl_ii\\lib\\site-packages (from smart-open>=1.8.1->gensim) (1.16.0)\n"
     ]
    }
   ],
   "source": [
    "!pip install keras-tuner\n",
    "!pip install nltk\n",
    "!pip install scikit-learn\n",
    "!pip install seaborn\n",
    "!pip install gensim"
   ]
  },
  {
   "cell_type": "code",
   "execution_count": 2,
   "metadata": {
    "colab": {
     "base_uri": "https://localhost:8080/"
    },
    "id": "Bc0I7dNbbUqg",
    "outputId": "a666d079-c000-4b61-a84f-43dbce66f641"
   },
   "outputs": [
    {
     "name": "stderr",
     "output_type": "stream",
     "text": [
      "C:\\Users\\S7ST3M\\AppData\\Local\\Temp\\ipykernel_27504\\2036113830.py:21: DeprecationWarning: `import kerastuner` is deprecated, please use `import keras_tuner`.\n",
      "  from kerastuner import RandomSearch, HyperModel\n"
     ]
    }
   ],
   "source": [
    "import pandas as pd\n",
    "import numpy as np\n",
    "import tensorflow as tf\n",
    "import re\n",
    "import nltk\n",
    "import matplotlib.pyplot as plt\n",
    "from sklearn.metrics import confusion_matrix, classification_report\n",
    "import seaborn as sns\n",
    "from nltk.corpus import stopwords\n",
    "from nltk.stem import WordNetLemmatizer\n",
    "from keras.preprocessing.text import Tokenizer\n",
    "from keras.utils import pad_sequences\n",
    "from sklearn.model_selection import train_test_split\n",
    "from sklearn.preprocessing import MinMaxScaler\n",
    "from tensorflow.keras.callbacks import ModelCheckpoint\n",
    "from tensorflow.keras.callbacks import TensorBoard\n",
    "from keras.models import Sequential, Model\n",
    "from keras.layers import Dense\n",
    "from tensorflow.keras.optimizers import Adam, SGD\n",
    "from keras.layers import LSTM,CuDNNLSTM, Dropout, Embedding, Conv1D, MultiHeadAttention, Input, Flatten, BatchNormalization, Dropout\n",
    "from kerastuner import RandomSearch, HyperModel"
   ]
  },
  {
   "cell_type": "raw",
   "metadata": {
    "id": "O1t4wTEk1yMf"
   },
   "source": [
    "# Data imports and preparation"
   ]
  },
  {
   "cell_type": "code",
   "execution_count": 3,
   "metadata": {
    "colab": {
     "base_uri": "https://localhost:8080/"
    },
    "id": "V127h580IWbP",
    "outputId": "fd9c85c5-60dd-4181-8af9-6eedd89f4a63"
   },
   "outputs": [
    {
     "name": "stderr",
     "output_type": "stream",
     "text": [
      "[nltk_data] Downloading package stopwords to\n",
      "[nltk_data]     C:\\Users\\S7ST3M\\AppData\\Roaming\\nltk_data...\n",
      "[nltk_data]   Package stopwords is already up-to-date!\n",
      "[nltk_data] Downloading package wordnet to\n",
      "[nltk_data]     C:\\Users\\S7ST3M\\AppData\\Roaming\\nltk_data...\n",
      "[nltk_data]   Package wordnet is already up-to-date!\n"
     ]
    },
    {
     "data": {
      "text/plain": [
       "True"
      ]
     },
     "execution_count": 3,
     "metadata": {},
     "output_type": "execute_result"
    }
   ],
   "source": [
    "\n",
    "nltk.download('stopwords')\n",
    "nltk.download('wordnet')"
   ]
  },
  {
   "cell_type": "code",
   "execution_count": 4,
   "metadata": {
    "id": "N93gLWX5bkNY"
   },
   "outputs": [],
   "source": [
    "df = pd.read_csv(\"IMDB Dataset.csv\")"
   ]
  },
  {
   "cell_type": "code",
   "execution_count": 5,
   "metadata": {
    "id": "oUx6KUGIdB2R"
   },
   "outputs": [],
   "source": [
    "df.columns = [\"Review\",\"Sentiment\"]"
   ]
  },
  {
   "cell_type": "code",
   "execution_count": 6,
   "metadata": {
    "colab": {
     "base_uri": "https://localhost:8080/",
     "height": 206
    },
    "id": "wvUXG-YAdM89",
    "outputId": "560dfd45-ea20-44b0-b634-16fecfb19fdf"
   },
   "outputs": [
    {
     "data": {
      "text/html": [
       "<div>\n",
       "<style scoped>\n",
       "    .dataframe tbody tr th:only-of-type {\n",
       "        vertical-align: middle;\n",
       "    }\n",
       "\n",
       "    .dataframe tbody tr th {\n",
       "        vertical-align: top;\n",
       "    }\n",
       "\n",
       "    .dataframe thead th {\n",
       "        text-align: right;\n",
       "    }\n",
       "</style>\n",
       "<table border=\"1\" class=\"dataframe\">\n",
       "  <thead>\n",
       "    <tr style=\"text-align: right;\">\n",
       "      <th></th>\n",
       "      <th>Review</th>\n",
       "      <th>Sentiment</th>\n",
       "    </tr>\n",
       "  </thead>\n",
       "  <tbody>\n",
       "    <tr>\n",
       "      <th>0</th>\n",
       "      <td>One of the other reviewers has mentioned that ...</td>\n",
       "      <td>positive</td>\n",
       "    </tr>\n",
       "    <tr>\n",
       "      <th>1</th>\n",
       "      <td>A wonderful little production. &lt;br /&gt;&lt;br /&gt;The...</td>\n",
       "      <td>positive</td>\n",
       "    </tr>\n",
       "    <tr>\n",
       "      <th>2</th>\n",
       "      <td>I thought this was a wonderful way to spend ti...</td>\n",
       "      <td>positive</td>\n",
       "    </tr>\n",
       "    <tr>\n",
       "      <th>3</th>\n",
       "      <td>Basically there's a family where a little boy ...</td>\n",
       "      <td>negative</td>\n",
       "    </tr>\n",
       "    <tr>\n",
       "      <th>4</th>\n",
       "      <td>Petter Mattei's \"Love in the Time of Money\" is...</td>\n",
       "      <td>positive</td>\n",
       "    </tr>\n",
       "  </tbody>\n",
       "</table>\n",
       "</div>"
      ],
      "text/plain": [
       "                                              Review Sentiment\n",
       "0  One of the other reviewers has mentioned that ...  positive\n",
       "1  A wonderful little production. <br /><br />The...  positive\n",
       "2  I thought this was a wonderful way to spend ti...  positive\n",
       "3  Basically there's a family where a little boy ...  negative\n",
       "4  Petter Mattei's \"Love in the Time of Money\" is...  positive"
      ]
     },
     "execution_count": 6,
     "metadata": {},
     "output_type": "execute_result"
    }
   ],
   "source": [
    "df.head()"
   ]
  },
  {
   "cell_type": "code",
   "execution_count": 7,
   "metadata": {
    "colab": {
     "base_uri": "https://localhost:8080/"
    },
    "id": "dvnSGA-hdPhL",
    "outputId": "a2694549-aee5-4a74-93a9-0707586278ae"
   },
   "outputs": [
    {
     "name": "stdout",
     "output_type": "stream",
     "text": [
      "<class 'pandas.core.frame.DataFrame'>\n",
      "RangeIndex: 50000 entries, 0 to 49999\n",
      "Data columns (total 2 columns):\n",
      " #   Column     Non-Null Count  Dtype \n",
      "---  ------     --------------  ----- \n",
      " 0   Review     50000 non-null  object\n",
      " 1   Sentiment  50000 non-null  object\n",
      "dtypes: object(2)\n",
      "memory usage: 781.4+ KB\n"
     ]
    }
   ],
   "source": [
    "df.info()"
   ]
  },
  {
   "cell_type": "code",
   "execution_count": 8,
   "metadata": {
    "colab": {
     "base_uri": "https://localhost:8080/"
    },
    "id": "UZ22eVI8dVIX",
    "outputId": "f5edda71-87f8-40c2-90e4-7b9c373fac7e"
   },
   "outputs": [
    {
     "data": {
      "text/plain": [
       "Sentiment\n",
       "positive    25000\n",
       "negative    25000\n",
       "Name: count, dtype: int64"
      ]
     },
     "execution_count": 8,
     "metadata": {},
     "output_type": "execute_result"
    }
   ],
   "source": [
    "df[\"Sentiment\"].value_counts()"
   ]
  },
  {
   "cell_type": "code",
   "execution_count": 9,
   "metadata": {
    "colab": {
     "base_uri": "https://localhost:8080/"
    },
    "id": "O1Tozb4MdbP4",
    "outputId": "06a6c626-a7ee-4f6a-b8ab-c3e3925aa8ce"
   },
   "outputs": [
    {
     "name": "stdout",
     "output_type": "stream",
     "text": [
      "A wonderful little production. <br /><br />The filming technique is very unassuming- very old-time-BBC fashion and gives a comforting, and sometimes discomforting, sense of realism to the entire piece. <br /><br />The actors are extremely well chosen- Michael Sheen not only \"has got all the polari\" but he has all the voices down pat too! You can truly see the seamless editing guided by the references to Williams' diary entries, not only is it well worth the watching but it is a terrificly written and performed piece. A masterful production about one of the great master's of comedy and his life. <br /><br />The realism really comes home with the little things: the fantasy of the guard which, rather than use the traditional 'dream' techniques remains solid then disappears. It plays on our knowledge and our senses, particularly with the scenes concerning Orton and Halliwell and the sets (particularly of their flat with Halliwell's murals decorating every surface) are terribly well done.\n"
     ]
    }
   ],
   "source": [
    "test = df[\"Review\"][1]\n",
    "print(test)"
   ]
  },
  {
   "cell_type": "markdown",
   "metadata": {
    "id": "qxBkqwDBBmcy"
   },
   "source": [
    "Following fuction takes sentence and preparse it for traning by: <br>\n",
    "1 Converting the word to lower case <br>\n",
    "2 Removing html '< br />< br />' tag <br>\n",
    "3 Removing non letter characters <br>\n",
    "4 Removing stop words <br>\n",
    "5 Lemmatizing words eg. gives -> give <br>"
   ]
  },
  {
   "cell_type": "code",
   "execution_count": 10,
   "metadata": {
    "id": "MtzGHbj_oDuf"
   },
   "outputs": [],
   "source": [
    "def prep_sentence(sentence):\n",
    "  lemmatizer = WordNetLemmatizer()\n",
    "  sentence = sentence.lower()\n",
    "  sentence = sentence.replace(\"<br /><br />\",\" \")\n",
    "  sentence = re.sub(\"\\'\", \"\",sentence)\n",
    "  sentence = re.sub(r'[^a-z]', ' ', sentence)\n",
    "\n",
    "  sentence = sentence.split()\n",
    "  stop_words = set(stopwords.words('english'))\n",
    "  for word in sentence:\n",
    "    if word in stop_words:\n",
    "      sentence.remove(word)\n",
    "  for i in range(len(sentence)):\n",
    "    sentence[i] = lemmatizer.lemmatize(sentence[i])\n",
    "\n",
    "  return \" \".join(sentence)"
   ]
  },
  {
   "cell_type": "code",
   "execution_count": 11,
   "metadata": {
    "colab": {
     "base_uri": "https://localhost:8080/"
    },
    "id": "Dhuz7U3woy4s",
    "outputId": "1cd32b39-54a7-45dc-a256-d586753d424a"
   },
   "outputs": [
    {
     "name": "stdout",
     "output_type": "stream",
     "text": [
      "wonderful little production filming technique unassuming very old time bbc fashion give comforting sometimes discomforting sense realism entire piece actor extremely well chosen michael sheen only got polari he all voice pat you truly see seamless editing guided reference williams diary entry only well worth watching it terrificly written performed piece a masterful production one the great master comedy his life the realism really come home the little thing the fantasy the guard rather use the traditional dream technique remains solid disappears it play our knowledge our sens particularly the scene concerning orton halliwell the set particularly their flat halliwells mural decorating every surface terribly well done\n"
     ]
    }
   ],
   "source": [
    "print(prep_sentence(test))"
   ]
  },
  {
   "cell_type": "code",
   "execution_count": 12,
   "metadata": {
    "colab": {
     "base_uri": "https://localhost:8080/"
    },
    "id": "xEbogA8V6NVP",
    "outputId": "a2cb52c7-47cb-4a0b-e703-fff70ed39b56"
   },
   "outputs": [
    {
     "name": "stdout",
     "output_type": "stream",
     "text": [
      "0\n",
      "0\n"
     ]
    }
   ],
   "source": [
    "print(df[\"Review\"].isnull().sum())\n",
    "print(df[\"Sentiment\"].isnull().sum())"
   ]
  },
  {
   "cell_type": "code",
   "execution_count": 13,
   "metadata": {
    "id": "0uVFVsRNJkr2"
   },
   "outputs": [],
   "source": [
    "df[\"Processed_review\"] = df['Review'].apply(prep_sentence)"
   ]
  },
  {
   "cell_type": "code",
   "execution_count": 14,
   "metadata": {
    "colab": {
     "base_uri": "https://localhost:8080/"
    },
    "id": "hdVficheIsoi",
    "outputId": "f608ccec-9adb-4b35-9f9c-6c0d45a2f7bf"
   },
   "outputs": [
    {
     "data": {
      "text/plain": [
       "0        one reviewer mentioned after watching oz episo...\n",
       "1        wonderful little production filming technique ...\n",
       "2        thought wonderful way spend time hot summer we...\n",
       "3        basically there family little boy jake think t...\n",
       "4        petter matteis love time money visually stunni...\n",
       "                               ...                        \n",
       "49995    thought movie right good job wasnt creative or...\n",
       "49996    bad plot bad dialogue bad acting idiotic direc...\n",
       "49997    am catholic taught parochial elementary school...\n",
       "49998    im going have disagree previous comment side m...\n",
       "49999    one expects star trek movie be high art fan ex...\n",
       "Name: Processed_review, Length: 50000, dtype: object"
      ]
     },
     "execution_count": 14,
     "metadata": {},
     "output_type": "execute_result"
    }
   ],
   "source": [
    "df[\"Processed_review\"]"
   ]
  },
  {
   "cell_type": "code",
   "execution_count": 15,
   "metadata": {
    "colab": {
     "base_uri": "https://localhost:8080/",
     "height": 467
    },
    "id": "FcN34xQ4P7WO",
    "outputId": "98ab1287-b256-4c98-f824-0c00a0dc40f5"
   },
   "outputs": [
    {
     "data": {
      "text/plain": [
       "<Axes: xlabel='Processed_review', ylabel='Count'>"
      ]
     },
     "execution_count": 15,
     "metadata": {},
     "output_type": "execute_result"
    },
    {
     "data": {
      "image/png": "[encoded data removed]",
      "text/plain": [
       "<Figure size 640x480 with 1 Axes>"
      ]
     },
     "metadata": {},
     "output_type": "display_data"
    }
   ],
   "source": [
    "sns.histplot(df[\"Processed_review\"].apply(lambda x: len(x.split())))"
   ]
  },
  {
   "cell_type": "code",
   "execution_count": 16,
   "metadata": {
    "colab": {
     "base_uri": "https://localhost:8080/"
    },
    "id": "-BQ44rngQxDD",
    "outputId": "0935a05e-d7b8-4b67-b197-af6b53ece971"
   },
   "outputs": [
    {
     "name": "stdout",
     "output_type": "stream",
     "text": [
      "1 positive\n",
      "1 positive\n",
      "1 positive\n",
      "0 negative\n",
      "1 positive\n",
      "1 positive\n",
      "1 positive\n",
      "0 negative\n",
      "0 negative\n",
      "1 positive\n"
     ]
    }
   ],
   "source": [
    "y_labels = []\n",
    "for sentiment in df[\"Sentiment\"]:\n",
    "  if sentiment == \"positive\":\n",
    "    y_labels.append(1)\n",
    "  else:\n",
    "    y_labels.append(0)\n",
    "\n",
    "y_labels = np.array(y_labels)\n",
    "\n",
    "for i in range(0,10):\n",
    "  print(y_labels[i],df[\"Sentiment\"][i])"
   ]
  },
  {
   "cell_type": "code",
   "execution_count": 17,
   "metadata": {
    "id": "p-NgLxCfIxx-"
   },
   "outputs": [],
   "source": [
    "maxwords = 10000\n",
    "max_len = 250\n",
    "x_data = list(df[\"Processed_review\"])"
   ]
  },
  {
   "cell_type": "code",
   "execution_count": 18,
   "metadata": {
    "id": "nATwNPqXRh8e"
   },
   "outputs": [],
   "source": [
    "X_train_raw, X_test_raw, y_train, y_test = train_test_split(x_data, y_labels, test_size=0.2, random_state=101)"
   ]
  },
  {
   "cell_type": "code",
   "execution_count": 19,
   "metadata": {
    "id": "dC95YG4APOXQ"
   },
   "outputs": [],
   "source": [
    "tokenizer = Tokenizer(num_words=maxwords)\n",
    "tokenizer.fit_on_texts(X_train_raw)\n",
    "X_train = tokenizer.texts_to_sequences(X_train_raw)\n",
    "X_test = tokenizer.texts_to_sequences(X_test_raw)\n",
    "X_train = np.array(pad_sequences(X_train, maxlen=max_len))\n",
    "X_test = np.array(pad_sequences(X_test, maxlen=max_len))"
   ]
  },
  {
   "cell_type": "code",
   "execution_count": 20,
   "metadata": {
    "colab": {
     "base_uri": "https://localhost:8080/"
    },
    "id": "Dag310mGQjDb",
    "outputId": "5bdf9e23-cc91-4dd1-a9af-6b443f15da41"
   },
   "outputs": [
    {
     "name": "stdout",
     "output_type": "stream",
     "text": [
      "(40000, 250)\n",
      "(10000, 250)\n"
     ]
    }
   ],
   "source": [
    "print(X_train.shape)\n",
    "print(X_test.shape)"
   ]
  },
  {
   "cell_type": "code",
   "execution_count": 21,
   "metadata": {
    "id": "7u575Pki8dum"
   },
   "outputs": [],
   "source": [
    "def get_len(x):\n",
    "  for i in range(len(x)):\n",
    "    if(x[i]!=0):\n",
    "      return len(x)-i\n",
    "  return 0"
   ]
  },
  {
   "cell_type": "code",
   "execution_count": 22,
   "metadata": {
    "id": "ghW1FTMf8ekH"
   },
   "outputs": [],
   "source": [
    "def to_cat(i):\n",
    "  if(i<0.5):\n",
    "    return 0\n",
    "  else:\n",
    "    return 1"
   ]
  },
  {
   "cell_type": "markdown",
   "metadata": {
    "id": "j4ql7IdDMCWq"
   },
   "source": [
    "# ATTENTION"
   ]
  },
  {
   "cell_type": "markdown",
   "metadata": {
    "id": "j4ql7IdDMCWq"
   },
   "source": [
    "Attention based network uses embeding to convert words into numerical vectors for our networks input, embeding layers are also trained, after some epochs they place the words in vector space where distance between them is correlated to their meaning, the closer the words the closer the meaning. Next layers are multihead attention layers. Single attention layer finds relevant information in the data by multiplying queries and keys which essentially is like looking for correlation between words in text. Multihead attention is many attention layers connected parallel to each other. This mechanism has certain advantages over LSTM and CNN models, mainly its not affected by exploding gradients problem, this means that no matter how far 2 words are in the text, network wont have a problem with corelating their meaning. This type of layer is backbone of the Transformer architecture which is used in many NLP aplications like LLM's for example ChatGPT. After multihead attention are fully concted layers and an output layer for making prediction. I used keras tuner to find good set of hyperparameters."
   ]
  },
  {
   "cell_type": "code",
   "execution_count": 23,
   "metadata": {
    "id": "4cl2moSz7-nv"
   },
   "outputs": [],
   "source": [
    "def build(n):\n",
    "    \n",
    "    inputs = Input(shape=(250,1))\n",
    "    \n",
    "    embeding = Embedding(10000,25)(inputs)\n",
    "    \n",
    "    attention = MultiHeadAttention(num_heads=12, key_dim=64)(embeding, embeding)\n",
    "    \n",
    "    flatten = Flatten()(attention)\n",
    "    \n",
    "    #Rectified Linear Unit f(x)=max(0,x)\n",
    "    dense = Dense(units=64, activation='relu')(flatten)\n",
    "    \n",
    "    for i in range(n):\n",
    "      dense = Dense(units= 64, activation='relu')(dense)\n",
    "    \n",
    "    drop = Dropout(0.4)(dense)\n",
    "    \n",
    "    #sigmoid  σ(x)= 1/(1+e^−x​)\n",
    "    outputs = Dense(units=1, activation='sigmoid')(dense)\n",
    "    \n",
    "    model = Model(inputs=inputs, outputs=outputs)\n",
    "    \n",
    "    model.compile(optimizer=Adam(learning_rate=0.01),loss=\"binary_crossentropy\",metrics = \"accuracy\")\n",
    "    return model"
   ]
  },
  {
   "cell_type": "code",
   "execution_count": 24,
   "metadata": {
    "id": "ER0qVaFJ9F8n"
   },
   "outputs": [],
   "source": [
    "stop_early = tf.keras.callbacks.EarlyStopping(monitor='val_loss', patience=5)"
   ]
  },
  {
   "cell_type": "code",
   "execution_count": 25,
   "metadata": {
    "colab": {
     "base_uri": "https://localhost:8080/"
    },
    "id": "YhB4yD4Q-3sM",
    "outputId": "2d53d646-2023-4696-cb55-1c998c0d8159"
   },
   "outputs": [],
   "source": [
    "model_atten = build(2)"
   ]
  },
  {
   "cell_type": "code",
   "execution_count": 26,
   "metadata": {},
   "outputs": [
    {
     "name": "stdout",
     "output_type": "stream",
     "text": [
      "Epoch 1/30\n",
      "157/157 [==============================] - 62s 385ms/step - loss: 0.5206 - accuracy: 0.7696 - val_loss: 0.2990 - val_accuracy: 0.8750\n",
      "Epoch 2/30\n",
      "157/157 [==============================] - 48s 304ms/step - loss: 0.2264 - accuracy: 0.9122 - val_loss: 0.2667 - val_accuracy: 0.8953\n",
      "Epoch 3/30\n",
      "157/157 [==============================] - 59s 378ms/step - loss: 0.1871 - accuracy: 0.9268 - val_loss: 0.2910 - val_accuracy: 0.8924\n",
      "Epoch 4/30\n",
      "157/157 [==============================] - 48s 307ms/step - loss: 0.1669 - accuracy: 0.9330 - val_loss: 0.3133 - val_accuracy: 0.8862\n",
      "Epoch 5/30\n",
      "157/157 [==============================] - 43s 276ms/step - loss: 0.1412 - accuracy: 0.9412 - val_loss: 0.3572 - val_accuracy: 0.8871\n",
      "Epoch 6/30\n",
      "157/157 [==============================] - 43s 276ms/step - loss: 0.1176 - accuracy: 0.9515 - val_loss: 0.3968 - val_accuracy: 0.8832\n",
      "Epoch 7/30\n",
      "157/157 [==============================] - 50s 318ms/step - loss: 0.1119 - accuracy: 0.9532 - val_loss: 0.4180 - val_accuracy: 0.8816\n"
     ]
    },
    {
     "data": {
      "text/plain": [
       "<keras.callbacks.History at 0x1abd1636170>"
      ]
     },
     "execution_count": 26,
     "metadata": {},
     "output_type": "execute_result"
    }
   ],
   "source": [
    "model_atten.fit(X_train, y_train, epochs=30,batch_size = 256, validation_data=(X_test,y_test), callbacks = [stop_early])"
   ]
  },
  {
   "cell_type": "code",
   "execution_count": 27,
   "metadata": {
    "colab": {
     "base_uri": "https://localhost:8080/"
    },
    "id": "XDfXL1-u1466",
    "outputId": "e638db89-1d81-4a61-a02d-7a405bb99ee9"
   },
   "outputs": [
    {
     "name": "stdout",
     "output_type": "stream",
     "text": [
      "313/313 [==============================] - 6s 19ms/step\n"
     ]
    }
   ],
   "source": [
    "predictions =  model_atten.predict(X_test)"
   ]
  },
  {
   "cell_type": "code",
   "execution_count": 28,
   "metadata": {
    "id": "TTQ5-VXAIy36"
   },
   "outputs": [],
   "source": [
    "predictions = [ to_cat(i) for i in predictions]"
   ]
  },
  {
   "cell_type": "code",
   "execution_count": 29,
   "metadata": {
    "colab": {
     "base_uri": "https://localhost:8080/"
    },
    "id": "b95JG-02IF-I",
    "outputId": "c33a51f9-e651-4607-b677-d4e37c4e7704",
    "scrolled": true
   },
   "outputs": [
    {
     "name": "stdout",
     "output_type": "stream",
     "text": [
      "              precision    recall  f1-score   support\n",
      "\n",
      "           0       0.88      0.88      0.88      4959\n",
      "           1       0.89      0.88      0.88      5041\n",
      "\n",
      "    accuracy                           0.88     10000\n",
      "   macro avg       0.88      0.88      0.88     10000\n",
      "weighted avg       0.88      0.88      0.88     10000\n",
      "\n"
     ]
    }
   ],
   "source": [
    "print(classification_report(y_test,predictions))"
   ]
  },
  {
   "cell_type": "code",
   "execution_count": 30,
   "metadata": {
    "colab": {
     "base_uri": "https://localhost:8080/"
    },
    "id": "xWRch4OkJhKg",
    "outputId": "3ed7832a-2f99-4bd6-db98-8730e29dbe20"
   },
   "outputs": [
    {
     "name": "stdout",
     "output_type": "stream",
     "text": [
      "                  Positive values  Negative values\n",
      "Positive guesses             4383              576\n",
      "Negative guesses              608             4433\n"
     ]
    }
   ],
   "source": [
    "print(pd.DataFrame(confusion_matrix(y_test,predictions),columns = [\"Positive values\", \"Negative values\"],\n",
    "                   index = [\"Positive guesses\", \"Negative guesses\"]))"
   ]
  },
  {
   "cell_type": "code",
   "execution_count": 31,
   "metadata": {
    "colab": {
     "base_uri": "https://localhost:8080/"
    },
    "id": "FPpdBNliM4zM",
    "outputId": "04c40429-c9c5-4b19-a2bb-c444b57508b7"
   },
   "outputs": [
    {
     "data": {
      "text/plain": [
       "array([   0,    0,    0,    0,    0,    0,    0,    0,    0,    0,    0,\n",
       "          0,    0,    0,    0,    0,    0,    0,    0,    0,    0,    0,\n",
       "          0,    0,    0,    0,    0,    0,    0,    0,    0,    0,    0,\n",
       "          0,    0,    0,    0,    0,    0,    0,    0,    0,    0,    0,\n",
       "          0,    0,    0,    0,    0,    0,    0,    0,    0,    0,    0,\n",
       "          0,    0,    0,    0,    0,    0,    0,    0,    0,    0,    0,\n",
       "          0,    0,    0,    0,    0,    0,    0,    0,    0,    0,    0,\n",
       "          0,    0,    0,    0,    0,    0,    0,    0,    0,    0,    0,\n",
       "          0,    0,    0,    0,    0,    0,    0,    0,    0,    0,    0,\n",
       "          0,    0,    0,    0,    0,    0,    0,    0,    0,    0,    0,\n",
       "          0,    0,    0,    0,    0,    0,    0,    0,    0,    0,    0,\n",
       "          0,    0,    0,    0,    0,    0,    0,    0,    0,    0,    0,\n",
       "          0,    0,    0,    0,    0,    0,    0,    0,    0,    0,    0,\n",
       "          0,    0,    0,    0,    0,    0,    0,    0,    0,    0,    0,\n",
       "          0,    0,    0,    0,    0,    0,    0,    0,    0,    0,    0,\n",
       "          0,    0,    0,    0,    0,    0,    0,    0,    0,    0,    0,\n",
       "          0,    0,    0,    0,    0,    0,    0,    0,    0,    0,    0,\n",
       "          0,    0,    0,    0,    0,    0,    0,    0,    0,    0,    0,\n",
       "          0,    0,    0,    0,    0,    0,    0,    0,    0,    0,    0,\n",
       "          0,    0,    0,    0,    0,   46,   57,  186,  852,  241, 1874,\n",
       "        149,   17, 1069,    5, 4632, 2624, 8186,   60,  921,  938,  116,\n",
       "          5,  177, 1677, 7274,  520,   28,  397,  256,  285,  374,    5,\n",
       "         51,  279, 1876,    2,  171,   78, 5079, 9053])"
      ]
     },
     "execution_count": 31,
     "metadata": {},
     "output_type": "execute_result"
    }
   ],
   "source": [
    "X_test[0]"
   ]
  },
  {
   "cell_type": "code",
   "execution_count": 32,
   "metadata": {},
   "outputs": [],
   "source": [
    "def isReviewPositive(text):\n",
    "    text = prep_sentence(text)\n",
    "   \n",
    "    tokenizer.fit_on_texts([text])\n",
    "    sequences = tokenizer.texts_to_sequences([text])\n",
    "    padded_sequences = pad_sequences(sequences, maxlen=max_len)\n",
    "    predictions2 = model_atten.predict(padded_sequences)\n",
    "    print(\"raw: \", predictions2[0])\n",
    "    if to_cat(predictions2[0]) == 0:\n",
    "        print(\"Negative review\")\n",
    "        return False\n",
    "    else:\n",
    "        print(\"Positive review\")\n",
    "        return True"
   ]
  },
  {
   "cell_type": "code",
   "execution_count": 33,
   "metadata": {},
   "outputs": [
    {
     "name": "stdout",
     "output_type": "stream",
     "text": [
      "\n",
      "Type in review: \n"
     ]
    },
    {
     "name": "stdin",
     "output_type": "stream",
     "text": [
      " this movie was terrific\n"
     ]
    },
    {
     "name": "stdout",
     "output_type": "stream",
     "text": [
      "1/1 [==============================] - 0s 16ms/step\n",
      "raw:  [0.8912647]\n",
      "Positive review\n",
      "\n",
      "Type in review: \n"
     ]
    },
    {
     "name": "stdin",
     "output_type": "stream",
     "text": [
      " :q\n"
     ]
    }
   ],
   "source": [
    "print(\"\\nType in review: \")\n",
    "inputIn = input()\n",
    "while inputIn != \":q\":\n",
    "    \n",
    "    isReviewPositive(inputIn)\n",
    "    \n",
    "    print(\"\\nType in review: \")\n",
    "    inputIn = input()"
   ]
  },
  {
   "cell_type": "code",
   "execution_count": 34,
   "metadata": {},
   "outputs": [
    {
     "name": "stdout",
     "output_type": "stream",
     "text": [
      "1/1 [==============================] - 0s 16ms/step\n",
      "raw:  [0.01211896]\n",
      "Negative review\n"
     ]
    },
    {
     "data": {
      "text/plain": [
       "False"
      ]
     },
     "execution_count": 34,
     "metadata": {},
     "output_type": "execute_result"
    }
   ],
   "source": [
    "textIn = \"The movie was terrible. The acting was wooden, the plot was predictable, and the special effects were laughable. Save your money and avoid it at all costs.\"\n",
    "isReviewPositive(textIn)"
   ]
  }
 ],
 "metadata": {
  "accelerator": "GPU",
  "colab": {
   "collapsed_sections": [
    "O1t4wTEk1yMf",
    "ig_qJHicL7K0",
    "j4ql7IdDMCWq"
   ],
   "gpuType": "T4",
   "include_colab_link": true,
   "provenance": []
  },
  "kernelspec": {
   "display_name": "Python 3 (ipykernel)",
   "language": "python",
   "name": "python3"
  },
  "language_info": {
   "codemirror_mode": {
    "name": "ipython",
    "version": 3
   },
   "file_extension": ".py",
   "mimetype": "text/x-python",
   "name": "python",
   "nbconvert_exporter": "python",
   "pygments_lexer": "ipython3",
   "version": "3.10.14"
  }
 },
 "nbformat": 4,
 "nbformat_minor": 4
}
